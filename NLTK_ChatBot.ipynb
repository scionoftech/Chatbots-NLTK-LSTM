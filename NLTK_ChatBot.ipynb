{
 "cells": [
  {
   "cell_type": "markdown",
   "metadata": {},
   "source": [
    "## NLTK based CHATBOTS\n",
    "\n",
    "A chatbot is a piece of software that conducts a conversation via auditory or textual methods. "
   ]
  },
  {
   "cell_type": "markdown",
   "metadata": {},
   "source": [
    "### Code Flow: \n",
    "\n",
    "1. Install Packages\n",
    "2. Design Corpus (NLTK reflections)\n",
    "3. Design the interactive chabot terminal & Launch chatbot terminal"
   ]
  },
  {
   "cell_type": "markdown",
   "metadata": {},
   "source": [
    "#### 1. Install Packages"
   ]
  },
  {
   "cell_type": "code",
   "execution_count": 1,
   "metadata": {},
   "outputs": [],
   "source": [
    "from nltk.chat.util import Chat, reflections"
   ]
  },
  {
   "cell_type": "markdown",
   "metadata": {},
   "source": [
    "#### 2. Design Corpus (NLTK reflections)"
   ]
  },
  {
   "cell_type": "code",
   "execution_count": 2,
   "metadata": {},
   "outputs": [],
   "source": [
    "pairs = [\n",
    "    \n",
    "    # Name\n",
    "    [\n",
    "       r\"(I|my) (am|username is) (.*)\",  # Read\n",
    "       [\"hello %3,how are you doing ?\\n\\n\"] # Response\n",
    "    ],\n",
    "    \n",
    "     [\n",
    "       r\"(\\w+\\w+\\w+\\w+\\d+\\d+)$\",\n",
    "       [\"\\tHello %1,\\n\\tPlease validate your business unit\\n\\n\"] \n",
    "    ],\n",
    "    \n",
    "    [\n",
    "       r\"(apac|americas|europe|australia)\",\n",
    "       [\"\\tThank you for confirming %1 as your business unit\\n\\tHow are you doing ?\\n\"] \n",
    "    ],\n",
    "    \n",
    "    [\n",
    "       r\"\\w*.*?(good|great|ok|not bad|fine|awesome)\",\n",
    "       [\"\\tGood to hear that you are doing %1\\n\\tHow can i help you ?\\n\"] \n",
    "    ],\n",
    "    \n",
    "    [\n",
    "       r\"\\w*.*?(not good|bad|not ok|not fine|not awesome|trouble|worried)\",\n",
    "       [\"\\tI am sorry to hear that you are doing %1 \\n\\tHow can i help you ?\\n\"] \n",
    "    ],\n",
    "    \n",
    "    [\n",
    "       r\"(unable to|not able to|no).*(access|login|permission)\\w*.?email.*?$\",\n",
    "       [\"\\n\\tI understand you re not able to %2 email\\n\\tNo worries\\n\\tFollow steps @www.email.com\\n\\tdid I help you ?\"] \n",
    "    ],\n",
    "    \n",
    "    [\n",
    "       r\"(unable to|not able to).*(access|login)\\w*.?computer.*?$\",\n",
    "       [\"\\n\\tI understand you re not able to %2 computer\\n\\tNo worries\\n\\tFollow steps @www.computer.com\\n\\tdid I help you ?\"] \n",
    "    ],\n",
    "    \n",
    "    [\n",
    "       r\"[yes|yup|ya|thanks].*?$\",\n",
    "       [\"\\n\\tI am glad I could help you\\nIs there anything else where I can assist ?\"] \n",
    "    ],\n",
    "    \n",
    "    [\n",
    "       r\"[no|not at all|bad].*?$\",\n",
    "       [\"\\n\\tI am sorry I could not help you\\n\\n\\tplease visit our helpdek to get the problem solved\"] \n",
    "    ],\n",
    "    \n",
    "     [\n",
    "        r\"(thank you|thanks|bye|seeya|see you|bye bye).*?$\",\n",
    "        [\"\\n\\tBye\"]\n",
    "    ],\n",
    "\n",
    "]"
   ]
  },
  {
   "cell_type": "markdown",
   "metadata": {},
   "source": [
    "#### 3. Design the interactive chabot terminal & Launch Chatbot terminal"
   ]
  },
  {
   "cell_type": "code",
   "execution_count": null,
   "metadata": {
    "scrolled": true
   },
   "outputs": [
    {
     "name": "stdout",
     "output_type": "stream",
     "text": [
      "Hello,\tMy name is NLTK-CHATBOT \n",
      "\n",
      "\tI am your virtual assistant \n",
      "\tNote: I do understand ENGLISH if written in lowercase\n",
      "\n",
      "\tPlease let me know your user name\n",
      "\n",
      ">my unsername is sai\n",
      "None\n",
      ">i am sai\n",
      "hello sai,how are you doing ?\n",
      "\n",
      "\n",
      ">great\n",
      "\tGood to hear that you are doing great\n",
      "\tHow can i help you ?\n",
      "\n",
      ">unable to login\n",
      "\n",
      "\tI am glad I could help you\n",
      "Is there anything else where I can assist ?\n",
      ">unable to login email\n",
      "\n",
      "\tI understand you re not able to login email\n",
      "\tNo worries\n",
      "\tFollow steps @www.email.com\n",
      "\tdid I help you ?\n",
      ">yes\n",
      "\n",
      "\tI am glad I could help you\n",
      "Is there anything else where I can assist ?\n",
      ">not able to access computer\n",
      "\n",
      "\tI understand you re not able to access computer\n",
      "\tNo worries\n",
      "\tFollow steps @www.computer.com\n",
      "\tdid I help you ?\n",
      ">no\n",
      "\n",
      "\tI am glad I could help you\n",
      "Is there anything else where I can assist ?\n",
      ">bad\n",
      "\tI am sorry to hear that you are doing bad \n",
      "\tHow can i help you ?\n",
      "\n",
      ">bye\n",
      "\n",
      "\tI am sorry I could not help you\n",
      "\n",
      "\tplease visit our helpdek to get the problem solved\n",
      ">thanks\n",
      "\n",
      "\tI am glad I could help you\n",
      "Is there anything else where I can assist ?\n"
     ]
    }
   ],
   "source": [
    "def JASON():\n",
    "    print(\"Hello,\\tMy name is NLTK-CHATBOT \\n\\n\\tI am your virtual assistant \\n\\tNote: I do understand ENGLISH if written in lowercase\")\n",
    "    print(\"\\n\\tPlease let me know your user name\\n\")\n",
    "    chat=Chat(pairs,reflections)\n",
    "    chat.converse()\n",
    "if __name__==\"__main__\":\n",
    "    JASON()"
   ]
  },
  {
   "cell_type": "code",
   "execution_count": null,
   "metadata": {},
   "outputs": [],
   "source": []
  },
  {
   "cell_type": "code",
   "execution_count": null,
   "metadata": {},
   "outputs": [],
   "source": []
  }
 ],
 "metadata": {
  "kernelspec": {
   "display_name": "Python 3",
   "language": "python",
   "name": "python3"
  },
  "language_info": {
   "codemirror_mode": {
    "name": "ipython",
    "version": 3
   },
   "file_extension": ".py",
   "mimetype": "text/x-python",
   "name": "python",
   "nbconvert_exporter": "python",
   "pygments_lexer": "ipython3",
   "version": "3.7.0"
  }
 },
 "nbformat": 4,
 "nbformat_minor": 2
}
